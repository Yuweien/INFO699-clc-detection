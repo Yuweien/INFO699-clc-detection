{
 "cells": [
  {
   "cell_type": "code",
   "execution_count": 186,
   "metadata": {},
   "outputs": [],
   "source": [
    "import json\n",
    "import pandas as pd\n",
    "import glob\n",
    "import os\n",
    "import re\n",
    "import ast\n",
    "import numpy as np\n",
    "from collections import Counter"
   ]
  },
  {
   "cell_type": "code",
   "execution_count": 225,
   "metadata": {},
   "outputs": [],
   "source": [
    "##### load Odin extractions #####\n",
    "\n",
    "combined_ie = pd.read_csv(\"combined_data_ie_label.csv\")\n",
    "ie_extraction = combined_ie[['message_id', 'participant', 'start_timestamp', 'end_timestamp', 'ie_extraction']]\n",
    "ie_extraction.set_index(\"message_id\", inplace=True)"
   ]
  },
  {
   "cell_type": "code",
   "execution_count": 226,
   "metadata": {},
   "outputs": [
    {
     "data": {
      "text/plain": [
       "6727"
      ]
     },
     "execution_count": 226,
     "metadata": {},
     "output_type": "execute_result"
    }
   ],
   "source": [
    "len(ie_extraction)"
   ]
  },
  {
   "cell_type": "code",
   "execution_count": 227,
   "metadata": {},
   "outputs": [],
   "source": [
    "####### Read in annotation ######\n",
    "\n",
    "def readAnn(dir):\n",
    "    dataAll_df = pd.read_csv(dir,index_col=None, header=0).\\\n",
    "        fillna(\"NA\")\\\n",
    "        [[\"message_id\", \"Label\", \"Score\", \"Category\", \"Note\"]]\n",
    "    # exclude pre-game and post-game lines\n",
    "    # exclude no annnotation lines\n",
    "    data = dataAll_df[dataAll_df[\"Note\"] == \"NA\"]\\\n",
    "                [[\"message_id\", \"Label\", \"Score\", \"Category\"]]\n",
    "    return data"
   ]
  },
  {
   "cell_type": "code",
   "execution_count": 228,
   "metadata": {},
   "outputs": [],
   "source": [
    "dir_csv = glob.glob(os.path.join(\"CLC_annotation_MultiCat\", \n",
    "                                \"*.csv\"))\n",
    "dir_csv.sort()\n",
    "\n",
    "dfs = (readAnn(dir) for dir in dir_csv)\n",
    "ann_df = pd.concat(dfs, ignore_index=True)\n",
    "ann_df.set_index(\"message_id\", inplace=True)"
   ]
  },
  {
   "cell_type": "code",
   "execution_count": 229,
   "metadata": {},
   "outputs": [
    {
     "data": {
      "text/plain": [
       "6542"
      ]
     },
     "execution_count": 229,
     "metadata": {},
     "output_type": "execute_result"
    }
   ],
   "source": [
    "len(ann_df)"
   ]
  },
  {
   "cell_type": "code",
   "execution_count": 230,
   "metadata": {},
   "outputs": [],
   "source": [
    "# match the message_id in ie_extraction with ann_df \n",
    "# to include only the annotated utterances\n",
    "\n",
    "# select items in message_id which index appears in ann_df\n",
    "ie_extraction = ie_extraction[ie_extraction.index.isin(ann_df.index)]\n",
    "ie_extraction = ie_extraction[~ie_extraction.index.duplicated(keep='first')]\n",
    "ann_df = ann_df[ann_df.index.isin(ie_extraction.index)]\n",
    "\n",
    "# reset index\n",
    "ie_extraction.reset_index(inplace=True)\n",
    "ann_df.reset_index(inplace=True)\n"
   ]
  },
  {
   "cell_type": "code",
   "execution_count": 231,
   "metadata": {},
   "outputs": [
    {
     "data": {
      "text/plain": [
       "4929"
      ]
     },
     "execution_count": 231,
     "metadata": {},
     "output_type": "execute_result"
    }
   ],
   "source": [
    "len(ann_df)"
   ]
  },
  {
   "cell_type": "code",
   "execution_count": 232,
   "metadata": {},
   "outputs": [],
   "source": [
    "# convert the dataframe to iterable list\n",
    "list_ie_data = ie_extraction.values.tolist()\n",
    "\n",
    "# read callout, checkback, and closing labelset\n",
    "with open('label_selection.json', 'r') as file:\n",
    "    label_selection = json.load(file)\n",
    "callout_selection = label_selection[\"callout_selection\"]\n",
    "checkback_selection = label_selection[\"checkback_selection\"]\n",
    "closing_selection = label_selection[\"closing_selection\"]"
   ]
  },
  {
   "cell_type": "code",
   "execution_count": 233,
   "metadata": {},
   "outputs": [],
   "source": [
    "######## CLC extraction #######\n",
    "\n",
    "def extract_clc(list_ie_data, win_size):\n",
    "    '''This function takes the nested list of the data (message_id, participant, ie_extraction),\n",
    "    and output the extracted clc event \n",
    "    eg.{turn_1:{message_id: 'a'}, turn_2:{message_id:'a', message_id:'b'}'''\n",
    "\n",
    "    # Create a dict to store the clc extraction\n",
    "    clc_extraction = {}\n",
    "\n",
    "    for n in range(len(list_ie_data) - win_size):\n",
    "        # Get the n:n+win_size window\n",
    "        window = list_ie_data[n : n + win_size]\n",
    "        \n",
    "        # Find a\n",
    "        message_id, participant, start, end, ie_extraction = list_ie_data[n]\n",
    "        if not start == start: start = end\n",
    "        is_a = False\n",
    "        if ie_extraction == ie_extraction:\n",
    "            for label in ie_extraction.split(', '):\n",
    "                if label in callout_selection:\n",
    "                    is_a = True\n",
    "        if is_a:\n",
    "            clc_extraction[n] = {message_id: 'a'}\n",
    "            # Find b\n",
    "            for item in window[1:]:\n",
    "                next_id, next_participant, next_start, next_end, next_ie = item\n",
    "                is_b = False\n",
    "                if not next_start == next_start: next_start = next_end\n",
    "                if next_participant != participant and next_start > start:\n",
    "                    if next_ie == next_ie:\n",
    "                        for label in next_ie.split(', '):\n",
    "                            if label in checkback_selection:\n",
    "                                is_b = True\n",
    "                if is_b:\n",
    "                    clc_extraction[n][next_id] = 'b'\n",
    "                    start = next_start # deal with the situation that c occurs before b\n",
    "            # Find c\n",
    "            if is_b:\n",
    "                for item in window[1:]:\n",
    "                    next_id, next_participant, next_start, next_end, next_ie = item\n",
    "                    is_c = False\n",
    "                    if not next_start == next_start: next_start = next_end\n",
    "                    if next_participant == participant and next_start > start:\n",
    "                        if next_ie == next_ie:\n",
    "                            for label in next_ie.split(', '):\n",
    "                                if label in closing_selection:\n",
    "                                    is_c = True\n",
    "                    if is_c:\n",
    "                        clc_extraction[n][next_id] = 'c'\n",
    "    return clc_extraction"
   ]
  },
  {
   "cell_type": "code",
   "execution_count": 296,
   "metadata": {},
   "outputs": [],
   "source": [
    "clc_extraction = extract_clc(list_ie_data, 5)"
   ]
  },
  {
   "cell_type": "code",
   "execution_count": 297,
   "metadata": {},
   "outputs": [],
   "source": [
    "####### Evaluation #######\n",
    "\n",
    "# For each utt, label the utt with CLC event labels\n",
    "# {utt_1: CLC_event}\n",
    "# possible situations for CLC_event: [NaN, a, ab, abb, abbb, abc, abbc, abbbc]\n"
   ]
  },
  {
   "cell_type": "code",
   "execution_count": 298,
   "metadata": {},
   "outputs": [],
   "source": [
    "#### Get all utt #####\n",
    "\n",
    "utts = ann_df[\"message_id\"].to_list()"
   ]
  },
  {
   "cell_type": "code",
   "execution_count": 299,
   "metadata": {},
   "outputs": [],
   "source": [
    "# convert clc_extraction to format {message_id_of_a:abbc}\n",
    "clc_extraction_converted = {}\n",
    "\n",
    "for extractions in clc_extraction.values():\n",
    "    extractions = list(extractions.items())\n",
    "    clc_extraction_converted[extractions[0][0]] = \"\".join([i[1] for i in extractions])"
   ]
  },
  {
   "cell_type": "code",
   "execution_count": null,
   "metadata": {},
   "outputs": [],
   "source": [
    "extraction = {}\n",
    "\n",
    "for m_id in utts:\n",
    "    if m_id in clc_extraction_converted:\n",
    "        extraction[m_id] = clc_extraction_converted[m_id]\n",
    "    else:\n",
    "        extraction[m_id] = \"NA\"\n",
    "extraction "
   ]
  },
  {
   "cell_type": "code",
   "execution_count": 301,
   "metadata": {},
   "outputs": [],
   "source": [
    "# convert ann_df to dictionary\n",
    "ann_dict = dict(zip(ann_df.message_id, ann_df.Label))\n"
   ]
  },
  {
   "cell_type": "code",
   "execution_count": 302,
   "metadata": {},
   "outputs": [],
   "source": [
    "def convert_ann(ann_dict):\n",
    "    '''Convert {message_id:1a.2b} to {turn_id:{message_id:a, message_id:b}}'''\n",
    "    converted_ann = {}\n",
    "    for item in ann_dict.items():\n",
    "        m_id, clc_labels = item\n",
    "        clc_labels = [i.rstrip(\"+\") for i in clc_labels.split(\".\")]\n",
    "        for label in clc_labels:\n",
    "            if label != \"NA\" and label.strip():\n",
    "                label = re.sub(r\"(?<=[a-zA-Z]).*$\", \"\", label)\n",
    "                turn_id, label = re.findall(r'\\d+|\\D+', label)\n",
    "                if turn_id not in converted_ann:\n",
    "                    converted_ann[turn_id] = {m_id: label}\n",
    "                else:\n",
    "                    converted_ann[turn_id][m_id] = label\n",
    "    return converted_ann"
   ]
  },
  {
   "cell_type": "code",
   "execution_count": 303,
   "metadata": {},
   "outputs": [],
   "source": [
    "converted_ann = convert_ann(ann_dict)"
   ]
  },
  {
   "cell_type": "code",
   "execution_count": null,
   "metadata": {},
   "outputs": [],
   "source": [
    "# convert converted_ann to format {message_id_of_a:abbc}\n",
    "ann_m_id_as_key = {}\n",
    "\n",
    "for extractions in converted_ann.values():\n",
    "    extractions = list(extractions.items())\n",
    "    a_m_id = \"\"\n",
    "    for item in extractions:\n",
    "        m_id, phase = item\n",
    "        if phase == \"a\":\n",
    "            a_m_id = m_id\n",
    "            ann_m_id_as_key[a_m_id] = phase\n",
    "        else: ann_m_id_as_key[a_m_id] += phase\n",
    "ann_m_id_as_key       \n"
   ]
  },
  {
   "cell_type": "code",
   "execution_count": null,
   "metadata": {},
   "outputs": [],
   "source": [
    "# Align the ann_m_id_as_key with all utterance\n",
    "\n",
    "ann = {}\n",
    "for m_id in utts:\n",
    "    if m_id in ann_m_id_as_key:\n",
    "        ann[m_id] = ann_m_id_as_key[m_id]\n",
    "    else:\n",
    "        ann[m_id] = \"NA\"\n",
    "ann"
   ]
  },
  {
   "cell_type": "code",
   "execution_count": 306,
   "metadata": {},
   "outputs": [],
   "source": [
    "# Combine the extraction df and ann df\n",
    "combined_dict = {k: [ann[k], extraction[k]] for k in ann}\n",
    "\n",
    "# create a dataframe from the combined dictionary\n",
    "combined_df = pd.DataFrame.from_dict(combined_dict, orient='index', columns=['ann', 'extraction'])\n"
   ]
  },
  {
   "cell_type": "code",
   "execution_count": 348,
   "metadata": {},
   "outputs": [
    {
     "data": {
      "text/html": [
       "<div>\n",
       "<style scoped>\n",
       "    .dataframe tbody tr th:only-of-type {\n",
       "        vertical-align: middle;\n",
       "    }\n",
       "\n",
       "    .dataframe tbody tr th {\n",
       "        vertical-align: top;\n",
       "    }\n",
       "\n",
       "    .dataframe thead th {\n",
       "        text-align: right;\n",
       "    }\n",
       "</style>\n",
       "<table border=\"1\" class=\"dataframe\">\n",
       "  <thead>\n",
       "    <tr style=\"text-align: right;\">\n",
       "      <th></th>\n",
       "      <th>ann</th>\n",
       "      <th>extraction</th>\n",
       "    </tr>\n",
       "  </thead>\n",
       "  <tbody>\n",
       "    <tr>\n",
       "      <th>ce97fd05-3d0d-4e6c-b9fd-4c8ecf6d6fc6</th>\n",
       "      <td>ab</td>\n",
       "      <td>abbc</td>\n",
       "    </tr>\n",
       "    <tr>\n",
       "      <th>f9ba47ea-6aef-450f-9d56-8486c2d38b11</th>\n",
       "      <td>a</td>\n",
       "      <td>ab</td>\n",
       "    </tr>\n",
       "    <tr>\n",
       "      <th>2eb63755-e786-4fda-ad8e-e9e4328f34c5</th>\n",
       "      <td>ab</td>\n",
       "      <td>NA</td>\n",
       "    </tr>\n",
       "    <tr>\n",
       "      <th>a467ecae-10f8-4ebb-896e-e42612fa7e79</th>\n",
       "      <td>ab</td>\n",
       "      <td>ab</td>\n",
       "    </tr>\n",
       "    <tr>\n",
       "      <th>64d85e13-01b4-4b8d-902a-65955c2e0ea3</th>\n",
       "      <td>NA</td>\n",
       "      <td>a</td>\n",
       "    </tr>\n",
       "    <tr>\n",
       "      <th>0476e2e8-6ad5-4673-9f1f-4337564c42da</th>\n",
       "      <td>ab</td>\n",
       "      <td>abb</td>\n",
       "    </tr>\n",
       "    <tr>\n",
       "      <th>ca90eeb7-4d6a-4907-870d-d3b11f114b95</th>\n",
       "      <td>NA</td>\n",
       "      <td>ab</td>\n",
       "    </tr>\n",
       "    <tr>\n",
       "      <th>b35f95ad-9738-4ae1-bedf-472b0a0eff23</th>\n",
       "      <td>NA</td>\n",
       "      <td>NA</td>\n",
       "    </tr>\n",
       "    <tr>\n",
       "      <th>64e8126b-929e-4dcc-a076-31764932f907</th>\n",
       "      <td>abb</td>\n",
       "      <td>abb</td>\n",
       "    </tr>\n",
       "    <tr>\n",
       "      <th>05fa19bd-4aa2-406a-bafb-86438bf13780</th>\n",
       "      <td>NA</td>\n",
       "      <td>NA</td>\n",
       "    </tr>\n",
       "    <tr>\n",
       "      <th>76eb6a53-1d72-48d9-a5d8-e916d82e7ac2</th>\n",
       "      <td>NA</td>\n",
       "      <td>NA</td>\n",
       "    </tr>\n",
       "    <tr>\n",
       "      <th>8e31e138-b149-4f66-ac41-f5468a289c27</th>\n",
       "      <td>a</td>\n",
       "      <td>abb</td>\n",
       "    </tr>\n",
       "    <tr>\n",
       "      <th>03d68c61-77b0-4521-8f5e-07fc4d525dc5</th>\n",
       "      <td>NA</td>\n",
       "      <td>a</td>\n",
       "    </tr>\n",
       "    <tr>\n",
       "      <th>3ecb1034-5152-4dd2-a46f-efdc67b54e8a</th>\n",
       "      <td>NA</td>\n",
       "      <td>NA</td>\n",
       "    </tr>\n",
       "    <tr>\n",
       "      <th>ae27fabf-c6eb-44f0-a606-cf019151652c</th>\n",
       "      <td>NA</td>\n",
       "      <td>a</td>\n",
       "    </tr>\n",
       "    <tr>\n",
       "      <th>5915da6c-ee19-413e-8ece-b0f776cb911d</th>\n",
       "      <td>NA</td>\n",
       "      <td>abb</td>\n",
       "    </tr>\n",
       "    <tr>\n",
       "      <th>446d8bdf-74a3-4f0a-a9b8-439b683a0c91</th>\n",
       "      <td>NA</td>\n",
       "      <td>a</td>\n",
       "    </tr>\n",
       "    <tr>\n",
       "      <th>b779bc04-0149-4632-a618-8e5424404b65</th>\n",
       "      <td>abc</td>\n",
       "      <td>ab</td>\n",
       "    </tr>\n",
       "    <tr>\n",
       "      <th>406ff6ef-3355-45c3-bcde-28747f4b9f96</th>\n",
       "      <td>NA</td>\n",
       "      <td>ab</td>\n",
       "    </tr>\n",
       "    <tr>\n",
       "      <th>fa116b70-5c3d-40ca-ad9e-fb7598b92e20</th>\n",
       "      <td>NA</td>\n",
       "      <td>NA</td>\n",
       "    </tr>\n",
       "  </tbody>\n",
       "</table>\n",
       "</div>"
      ],
      "text/plain": [
       "                                      ann extraction\n",
       "ce97fd05-3d0d-4e6c-b9fd-4c8ecf6d6fc6   ab       abbc\n",
       "f9ba47ea-6aef-450f-9d56-8486c2d38b11    a         ab\n",
       "2eb63755-e786-4fda-ad8e-e9e4328f34c5   ab         NA\n",
       "a467ecae-10f8-4ebb-896e-e42612fa7e79   ab         ab\n",
       "64d85e13-01b4-4b8d-902a-65955c2e0ea3   NA          a\n",
       "0476e2e8-6ad5-4673-9f1f-4337564c42da   ab        abb\n",
       "ca90eeb7-4d6a-4907-870d-d3b11f114b95   NA         ab\n",
       "b35f95ad-9738-4ae1-bedf-472b0a0eff23   NA         NA\n",
       "64e8126b-929e-4dcc-a076-31764932f907  abb        abb\n",
       "05fa19bd-4aa2-406a-bafb-86438bf13780   NA         NA\n",
       "76eb6a53-1d72-48d9-a5d8-e916d82e7ac2   NA         NA\n",
       "8e31e138-b149-4f66-ac41-f5468a289c27    a        abb\n",
       "03d68c61-77b0-4521-8f5e-07fc4d525dc5   NA          a\n",
       "3ecb1034-5152-4dd2-a46f-efdc67b54e8a   NA         NA\n",
       "ae27fabf-c6eb-44f0-a606-cf019151652c   NA          a\n",
       "5915da6c-ee19-413e-8ece-b0f776cb911d   NA        abb\n",
       "446d8bdf-74a3-4f0a-a9b8-439b683a0c91   NA          a\n",
       "b779bc04-0149-4632-a618-8e5424404b65  abc         ab\n",
       "406ff6ef-3355-45c3-bcde-28747f4b9f96   NA         ab\n",
       "fa116b70-5c3d-40ca-ad9e-fb7598b92e20   NA         NA"
      ]
     },
     "execution_count": 348,
     "metadata": {},
     "output_type": "execute_result"
    }
   ],
   "source": [
    "combined_df.head(20)"
   ]
  },
  {
   "cell_type": "code",
   "execution_count": 307,
   "metadata": {},
   "outputs": [],
   "source": [
    "ann_list = combined_df[\"ann\"].to_list()\n",
    "extraction_list = combined_df[\"extraction\"].to_list()"
   ]
  },
  {
   "cell_type": "code",
   "execution_count": 308,
   "metadata": {},
   "outputs": [],
   "source": [
    "import matplotlib.pyplot as plt\n",
    "from sklearn import metrics\n",
    "from sklearn.metrics import confusion_matrix\n",
    "from sklearn.metrics import precision_score, recall_score, f1_score, accuracy_score"
   ]
  },
  {
   "cell_type": "code",
   "execution_count": 332,
   "metadata": {},
   "outputs": [],
   "source": [
    "def printConfusionMatrix(ann_list,extraction_list,\n",
    "                        f_size = 12, t_size=\"large\"):\n",
    "    conf_matrix = confusion_matrix(y_true=ann_list, y_pred=extraction_list)\n",
    "    fig, ax = plt.subplots(figsize=(f_size, f_size))\n",
    "    ax.matshow(conf_matrix, cmap=plt.cm.Oranges, alpha=0.5)\n",
    "    for i in range(conf_matrix.shape[0]):\n",
    "        for j in range(conf_matrix.shape[1]):\n",
    "            ax.text(x=j, y=i,s=conf_matrix[i, j], va='center', ha='center', size= t_size)\n",
    "    \n",
    "    labels_unique = sorted(set(ann_list + extraction_list))\n",
    "    tick_marks = np.arange(len(labels_unique))\n",
    "    ax.set_xticks(tick_marks)\n",
    "    ax.set_yticks(tick_marks)\n",
    "    ax.set_xticklabels(labels_unique, rotation=45)\n",
    "    ax.set_yticklabels(labels_unique)\n",
    "    plt.xlabel('Predictions')\n",
    "    plt.ylabel('Actuals')\n",
    "    plt.title('Confusion Matrix')\n",
    "    plt.show()\n"
   ]
  },
  {
   "cell_type": "code",
   "execution_count": 331,
   "metadata": {},
   "outputs": [
    {
     "data": {
      "image/png": "[encoded data removed]",
      "text/plain": [
       "<Figure size 864x864 with 1 Axes>"
      ]
     },
     "metadata": {
      "needs_background": "light"
     },
     "output_type": "display_data"
    }
   ],
   "source": [
    "printConfusionMatrix(ann_list,extraction_list)"
   ]
  },
  {
   "cell_type": "code",
   "execution_count": 339,
   "metadata": {},
   "outputs": [
    {
     "name": "stdout",
     "output_type": "stream",
     "text": [
      "              precision    recall  f1-score   support\n",
      "\n",
      "          NA      0.653     0.704     0.678      2497\n",
      "           a      0.328     0.224     0.266      1176\n",
      "          ab      0.225     0.245     0.234       829\n",
      "         abb      0.044     0.140     0.067       129\n",
      "        abbb      0.000     0.000     0.000        13\n",
      "       abbbb      0.000     0.000     0.000         1\n",
      "       abbbc      0.000     0.000     0.000         1\n",
      "        abbc      0.000     0.000     0.000        35\n",
      "       abbcb      1.000     0.000     0.000         4\n",
      "      abbcbb      1.000     0.000     0.000         1\n",
      "       abbcc      1.000     0.000     0.000         2\n",
      "         abc      0.036     0.006     0.010       171\n",
      "        abcb      1.000     0.000     0.000        30\n",
      "       abcbb      1.000     0.000     0.000         4\n",
      "       abcbc      1.000     0.000     0.000         4\n",
      "        abcc      1.000     0.000     0.000         9\n",
      "       abccb      1.000     0.000     0.000         1\n",
      "       abccc      0.000     1.000     0.000         0\n",
      "          ac      1.000     0.000     0.000         8\n",
      "         acb      1.000     0.000     0.000         9\n",
      "        acbb      1.000     0.000     0.000         3\n",
      "       acbbc      1.000     0.000     0.000         1\n",
      "        accb      1.000     0.000     0.000         1\n",
      "\n",
      "    accuracy                          0.455      4929\n",
      "   macro avg      0.621     0.101     0.055      4929\n",
      "weighted avg      0.465     0.455     0.448      4929\n",
      "\n"
     ]
    }
   ],
   "source": [
    "all_metrics = metrics.classification_report(ann_list, extraction_list, digits=3, zero_division=1)\n",
    "print(all_metrics)"
   ]
  },
  {
   "cell_type": "code",
   "execution_count": 340,
   "metadata": {},
   "outputs": [],
   "source": [
    "#### Merge label categories to only have {NA, a, ab, abc}\n",
    "\n",
    "# ab+ -> ab\n",
    "# ab+c -> abc\n",
    "# ab+c+ -> abc\n",
    "# ab+c+b+ -> abc\n",
    "# ac+b+ -> abc\n",
    "# ac -> ab"
   ]
  },
  {
   "cell_type": "code",
   "execution_count": 349,
   "metadata": {},
   "outputs": [],
   "source": [
    "def merge_labels(label_list):\n",
    "    '''This function merges label categories to only have {NA, a, ab, abc}'''\n",
    "    merged_list = []\n",
    "    pattern = r\"(.)\\1*\"\n",
    "    for label in label_list:\n",
    "        res_label = re.sub(pattern, r\"\\1\", label)\n",
    "        if res_label == \"NA\":\n",
    "            merged_list.append(res_label)\n",
    "        elif res_label == \"a\":\n",
    "            merged_list.append(\"a\")\n",
    "        elif res_label == \"ac\":\n",
    "            merged_list.append(\"ab\")\n",
    "        elif set([\"a\", \"b\",\"c\"]).issubset(set(res_label)):\n",
    "            merged_list.append(\"abc\")\n",
    "        else:\n",
    "            merged_list.append(\"ab\")\n",
    "    return merged_list\n",
    "\n",
    "merged_ann = merge_labels(ann_list)\n",
    "merged_extraction = merge_labels(extraction_list)"
   ]
  },
  {
   "cell_type": "code",
   "execution_count": 343,
   "metadata": {},
   "outputs": [
    {
     "data": {
      "image/png": "[encoded data removed]",
      "text/plain": [
       "<Figure size 360x360 with 1 Axes>"
      ]
     },
     "metadata": {
      "needs_background": "light"
     },
     "output_type": "display_data"
    }
   ],
   "source": [
    "printConfusionMatrix(merged_ann,merged_extraction,f_size = 5)"
   ]
  },
  {
   "cell_type": "code",
   "execution_count": 344,
   "metadata": {},
   "outputs": [],
   "source": [
    "overall = metrics.classification_report(merged_ann, merged_extraction, digits=3, zero_division=1)"
   ]
  },
  {
   "cell_type": "code",
   "execution_count": 345,
   "metadata": {},
   "outputs": [
    {
     "name": "stdout",
     "output_type": "stream",
     "text": [
      "              precision    recall  f1-score   support\n",
      "\n",
      "          NA      0.653     0.704     0.678      2497\n",
      "           a      0.328     0.224     0.266      1176\n",
      "          ab      0.284     0.401     0.332       980\n",
      "         abc      0.120     0.022     0.037       276\n",
      "\n",
      "    accuracy                          0.491      4929\n",
      "   macro avg      0.346     0.338     0.328      4929\n",
      "weighted avg      0.472     0.491     0.475      4929\n",
      "\n"
     ]
    }
   ],
   "source": [
    "print(overall)"
   ]
  },
  {
   "cell_type": "code",
   "execution_count": null,
   "metadata": {},
   "outputs": [],
   "source": []
  }
 ],
 "metadata": {
  "kernelspec": {
   "display_name": "base",
   "language": "python",
   "name": "python3"
  },
  "language_info": {
   "codemirror_mode": {
    "name": "ipython",
    "version": 3
   },
   "file_extension": ".py",
   "mimetype": "text/x-python",
   "name": "python",
   "nbconvert_exporter": "python",
   "pygments_lexer": "ipython3",
   "version": "3.8.8"
  },
  "orig_nbformat": 4,
  "vscode": {
   "interpreter": {
    "hash": "40d3a090f54c6569ab1632332b64b2c03c39dcf918b08424e98f38b5ae0af88f"
   }
  }
 },
 "nbformat": 4,
 "nbformat_minor": 2
}
