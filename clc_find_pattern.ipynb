{
 "cells": [
  {
   "cell_type": "code",
   "execution_count": 177,
   "metadata": {},
   "outputs": [],
   "source": [
    "import pandas as pd\n",
    "import numpy as np\n",
    "import glob\n",
    "import os\n",
    "from sklearn.metrics import precision_score, recall_score, f1_score, accuracy_score\n",
    "import matplotlib.pyplot as plt"
   ]
  },
  {
   "cell_type": "code",
   "execution_count": 178,
   "metadata": {},
   "outputs": [
    {
     "data": {
      "text/html": [
       "<div>\n",
       "<style scoped>\n",
       "    .dataframe tbody tr th:only-of-type {\n",
       "        vertical-align: middle;\n",
       "    }\n",
       "\n",
       "    .dataframe tbody tr th {\n",
       "        vertical-align: top;\n",
       "    }\n",
       "\n",
       "    .dataframe thead th {\n",
       "        text-align: right;\n",
       "    }\n",
       "</style>\n",
       "<table border=\"1\" class=\"dataframe\">\n",
       "  <thead>\n",
       "    <tr style=\"text-align: right;\">\n",
       "      <th></th>\n",
       "      <th>message_id</th>\n",
       "      <th>ie_extraction</th>\n",
       "    </tr>\n",
       "  </thead>\n",
       "  <tbody>\n",
       "    <tr>\n",
       "      <td>0</td>\n",
       "      <td>70cfac19-1171-44a8-b1c1-6d3069941118</td>\n",
       "      <td>NaN</td>\n",
       "    </tr>\n",
       "    <tr>\n",
       "      <td>1</td>\n",
       "      <td>10a34235-9c1c-4a46-a2b6-1b553f58271d</td>\n",
       "      <td>NaN</td>\n",
       "    </tr>\n",
       "    <tr>\n",
       "      <td>2</td>\n",
       "      <td>cec24808-49b9-43d1-a703-ac6fd5c7c202</td>\n",
       "      <td>NaN</td>\n",
       "    </tr>\n",
       "    <tr>\n",
       "      <td>3</td>\n",
       "      <td>aa13fe0f-b4a8-4b22-a0eb-4ba9abebacbf</td>\n",
       "      <td>NaN</td>\n",
       "    </tr>\n",
       "    <tr>\n",
       "      <td>4</td>\n",
       "      <td>c1f6b2ce-4476-4e6c-b913-a26fdd89ada1</td>\n",
       "      <td>NaN</td>\n",
       "    </tr>\n",
       "    <tr>\n",
       "      <td>...</td>\n",
       "      <td>...</td>\n",
       "      <td>...</td>\n",
       "    </tr>\n",
       "    <tr>\n",
       "      <td>6722</td>\n",
       "      <td>d2b9850c-79a0-41ca-a91c-fc765ce7cb6b</td>\n",
       "      <td>KnowledgeSharing</td>\n",
       "    </tr>\n",
       "    <tr>\n",
       "      <td>6723</td>\n",
       "      <td>912ee2c8-0dbc-45cf-8e06-4f1c512dc4ca</td>\n",
       "      <td>DeliberatePlan, TimeUnit</td>\n",
       "    </tr>\n",
       "    <tr>\n",
       "      <td>6724</td>\n",
       "      <td>25d58291-6c08-46aa-9d1c-b39175370745</td>\n",
       "      <td>NaN</td>\n",
       "    </tr>\n",
       "    <tr>\n",
       "      <td>6725</td>\n",
       "      <td>4602f1ba-7c39-4587-af49-a616eff03e1e</td>\n",
       "      <td>NaN</td>\n",
       "    </tr>\n",
       "    <tr>\n",
       "      <td>6726</td>\n",
       "      <td>ad43b1ec-21f6-4f99-a3e1-a2cff38f8a83</td>\n",
       "      <td>NaN</td>\n",
       "    </tr>\n",
       "  </tbody>\n",
       "</table>\n",
       "<p>6727 rows × 2 columns</p>\n",
       "</div>"
      ],
      "text/plain": [
       "                                message_id             ie_extraction\n",
       "0     70cfac19-1171-44a8-b1c1-6d3069941118                       NaN\n",
       "1     10a34235-9c1c-4a46-a2b6-1b553f58271d                       NaN\n",
       "2     cec24808-49b9-43d1-a703-ac6fd5c7c202                       NaN\n",
       "3     aa13fe0f-b4a8-4b22-a0eb-4ba9abebacbf                       NaN\n",
       "4     c1f6b2ce-4476-4e6c-b913-a26fdd89ada1                       NaN\n",
       "...                                    ...                       ...\n",
       "6722  d2b9850c-79a0-41ca-a91c-fc765ce7cb6b          KnowledgeSharing\n",
       "6723  912ee2c8-0dbc-45cf-8e06-4f1c512dc4ca  DeliberatePlan, TimeUnit\n",
       "6724  25d58291-6c08-46aa-9d1c-b39175370745                       NaN\n",
       "6725  4602f1ba-7c39-4587-af49-a616eff03e1e                       NaN\n",
       "6726  ad43b1ec-21f6-4f99-a3e1-a2cff38f8a83                       NaN\n",
       "\n",
       "[6727 rows x 2 columns]"
      ]
     },
     "execution_count": 178,
     "metadata": {},
     "output_type": "execute_result"
    }
   ],
   "source": [
    "##### load Odin extractions #####\n",
    "\n",
    "combined_ie = pd.read_csv(\"combined_data_ie_label.csv\")\n",
    "ie_extraction = combined_ie[['message_id', 'ie_extraction']]\n",
    "\n",
    "# keep nan values for ie_extraction to have the original sequence of utterances\n",
    "# annotations may have CLC labels on utt that does not have ie extraction\n",
    "ie_extraction"
   ]
  },
  {
   "cell_type": "code",
   "execution_count": 31,
   "metadata": {},
   "outputs": [
    {
     "data": {
      "text/plain": [
       "6727"
      ]
     },
     "execution_count": 31,
     "metadata": {},
     "output_type": "execute_result"
    }
   ],
   "source": [
    "len(ie_extraction)"
   ]
  },
  {
   "cell_type": "code",
   "execution_count": 184,
   "metadata": {},
   "outputs": [],
   "source": [
    "##### load annotation #####\n",
    "\n",
    "def readFile(dir):\n",
    "    dataAll_df = pd.read_csv(dir,index_col=None, header=0).\\\n",
    "        fillna(\"NA\")\\\n",
    "        [[\"message_id\", \"Label\", \"Score\", \"Category\", \"Note\"]]\n",
    "    # exclude pre-game and post-game lines\n",
    "    # exclude no annnotation lines\n",
    "    data = dataAll_df[dataAll_df[\"Note\"] == \"NA\"]\\\n",
    "                [dataAll_df[\"Label\"] != \"NA\"]\\\n",
    "                [[\"message_id\", \"Label\", \"Score\", \"Category\"]]\n",
    "    return data"
   ]
  },
  {
   "cell_type": "code",
   "execution_count": 185,
   "metadata": {},
   "outputs": [
    {
     "name": "stderr",
     "output_type": "stream",
     "text": [
      "/opt/anaconda3/lib/python3.7/site-packages/ipykernel_launcher.py:10: UserWarning: Boolean Series key will be reindexed to match DataFrame index.\n",
      "  # Remove the CWD from sys.path while we load stuff.\n"
     ]
    },
    {
     "data": {
      "text/html": [
       "<div>\n",
       "<style scoped>\n",
       "    .dataframe tbody tr th:only-of-type {\n",
       "        vertical-align: middle;\n",
       "    }\n",
       "\n",
       "    .dataframe tbody tr th {\n",
       "        vertical-align: top;\n",
       "    }\n",
       "\n",
       "    .dataframe thead th {\n",
       "        text-align: right;\n",
       "    }\n",
       "</style>\n",
       "<table border=\"1\" class=\"dataframe\">\n",
       "  <thead>\n",
       "    <tr style=\"text-align: right;\">\n",
       "      <th></th>\n",
       "      <th>message_id</th>\n",
       "      <th>Label</th>\n",
       "      <th>Score</th>\n",
       "      <th>Category</th>\n",
       "    </tr>\n",
       "  </thead>\n",
       "  <tbody>\n",
       "    <tr>\n",
       "      <td>0</td>\n",
       "      <td>34f36874-be3a-4187-bd66-1fa69d4e0c28</td>\n",
       "      <td>1a</td>\n",
       "      <td>NA</td>\n",
       "      <td>assert</td>\n",
       "    </tr>\n",
       "    <tr>\n",
       "      <td>1</td>\n",
       "      <td>50de2843-270f-47d8-9e23-b41fb82ac3e5</td>\n",
       "      <td>1b</td>\n",
       "      <td>1</td>\n",
       "      <td>acknowledge</td>\n",
       "    </tr>\n",
       "    <tr>\n",
       "      <td>2</td>\n",
       "      <td>342f31d6-388d-4e33-a257-4d4314b20cdb</td>\n",
       "      <td>2b</td>\n",
       "      <td>1</td>\n",
       "      <td>accept</td>\n",
       "    </tr>\n",
       "    <tr>\n",
       "      <td>3</td>\n",
       "      <td>b1952888-cc6f-4f4b-9843-fde04c1708a0</td>\n",
       "      <td>2a</td>\n",
       "      <td>NA</td>\n",
       "      <td>action-directive</td>\n",
       "    </tr>\n",
       "    <tr>\n",
       "      <td>4</td>\n",
       "      <td>8047c7fa-89d2-447b-bcb8-d1c2e6c98c5b</td>\n",
       "      <td>3a</td>\n",
       "      <td>NA</td>\n",
       "      <td>action-directive</td>\n",
       "    </tr>\n",
       "    <tr>\n",
       "      <td>...</td>\n",
       "      <td>...</td>\n",
       "      <td>...</td>\n",
       "      <td>...</td>\n",
       "      <td>...</td>\n",
       "    </tr>\n",
       "    <tr>\n",
       "      <td>5337</td>\n",
       "      <td>9fda7355-30c7-4363-9666-4f0347070a60</td>\n",
       "      <td>66c.67a</td>\n",
       "      <td>NA</td>\n",
       "      <td>acknowledge.assert</td>\n",
       "    </tr>\n",
       "    <tr>\n",
       "      <td>5338</td>\n",
       "      <td>0f240579-dcb2-49aa-8758-138e8a8a392d</td>\n",
       "      <td>67b.68a</td>\n",
       "      <td>3</td>\n",
       "      <td>info-provide.assert</td>\n",
       "    </tr>\n",
       "    <tr>\n",
       "      <td>5339</td>\n",
       "      <td>8521d8bc-fc19-4ff3-bc77-0e1133f993fe</td>\n",
       "      <td>68a+</td>\n",
       "      <td>NA</td>\n",
       "      <td>assert</td>\n",
       "    </tr>\n",
       "    <tr>\n",
       "      <td>5340</td>\n",
       "      <td>37dfcb89-3e16-41a3-ac94-b90e870b21fd</td>\n",
       "      <td>68a++</td>\n",
       "      <td>NA</td>\n",
       "      <td>assert</td>\n",
       "    </tr>\n",
       "    <tr>\n",
       "      <td>5341</td>\n",
       "      <td>2bd25240-51de-40a1-a75c-228ba539e7c9</td>\n",
       "      <td>68b</td>\n",
       "      <td>1</td>\n",
       "      <td>acknowledge</td>\n",
       "    </tr>\n",
       "  </tbody>\n",
       "</table>\n",
       "<p>5342 rows × 4 columns</p>\n",
       "</div>"
      ],
      "text/plain": [
       "                                message_id    Label Score             Category\n",
       "0     34f36874-be3a-4187-bd66-1fa69d4e0c28       1a    NA               assert\n",
       "1     50de2843-270f-47d8-9e23-b41fb82ac3e5       1b     1          acknowledge\n",
       "2     342f31d6-388d-4e33-a257-4d4314b20cdb       2b     1               accept\n",
       "3     b1952888-cc6f-4f4b-9843-fde04c1708a0       2a    NA     action-directive\n",
       "4     8047c7fa-89d2-447b-bcb8-d1c2e6c98c5b       3a    NA     action-directive\n",
       "...                                    ...      ...   ...                  ...\n",
       "5337  9fda7355-30c7-4363-9666-4f0347070a60  66c.67a    NA   acknowledge.assert\n",
       "5338  0f240579-dcb2-49aa-8758-138e8a8a392d  67b.68a     3  info-provide.assert\n",
       "5339  8521d8bc-fc19-4ff3-bc77-0e1133f993fe     68a+    NA               assert\n",
       "5340  37dfcb89-3e16-41a3-ac94-b90e870b21fd    68a++    NA               assert\n",
       "5341  2bd25240-51de-40a1-a75c-228ba539e7c9      68b     1          acknowledge\n",
       "\n",
       "[5342 rows x 4 columns]"
      ]
     },
     "execution_count": 185,
     "metadata": {},
     "output_type": "execute_result"
    }
   ],
   "source": [
    "dir_csv = glob.glob(os.path.join(\"/Users/yuwei/Desktop/RA/CLC-new-ann-model/new_ann\", \n",
    "                                \"*.csv\"))\n",
    "dir_csv.sort()\n",
    "\n",
    "dfs = (readFile(dir) for dir in dir_csv)\n",
    "ann_df = pd.concat(dfs, ignore_index=True)\n",
    "ann_df"
   ]
  },
  {
   "cell_type": "code",
   "execution_count": 186,
   "metadata": {},
   "outputs": [
    {
     "data": {
      "text/html": [
       "<div>\n",
       "<style scoped>\n",
       "    .dataframe tbody tr th:only-of-type {\n",
       "        vertical-align: middle;\n",
       "    }\n",
       "\n",
       "    .dataframe tbody tr th {\n",
       "        vertical-align: top;\n",
       "    }\n",
       "\n",
       "    .dataframe thead th {\n",
       "        text-align: right;\n",
       "    }\n",
       "</style>\n",
       "<table border=\"1\" class=\"dataframe\">\n",
       "  <thead>\n",
       "    <tr style=\"text-align: right;\">\n",
       "      <th></th>\n",
       "      <th>message_id</th>\n",
       "      <th>Label</th>\n",
       "      <th>Score</th>\n",
       "      <th>Category</th>\n",
       "      <th>ie_extraction</th>\n",
       "    </tr>\n",
       "  </thead>\n",
       "  <tbody>\n",
       "    <tr>\n",
       "      <td>0</td>\n",
       "      <td>34f36874-be3a-4187-bd66-1fa69d4e0c28</td>\n",
       "      <td>1a</td>\n",
       "      <td>NA</td>\n",
       "      <td>assert</td>\n",
       "      <td>NaN</td>\n",
       "    </tr>\n",
       "    <tr>\n",
       "      <td>1</td>\n",
       "      <td>50de2843-270f-47d8-9e23-b41fb82ac3e5</td>\n",
       "      <td>1b</td>\n",
       "      <td>1</td>\n",
       "      <td>acknowledge</td>\n",
       "      <td>NaN</td>\n",
       "    </tr>\n",
       "    <tr>\n",
       "      <td>2</td>\n",
       "      <td>342f31d6-388d-4e33-a257-4d4314b20cdb</td>\n",
       "      <td>2b</td>\n",
       "      <td>1</td>\n",
       "      <td>accept</td>\n",
       "      <td>NaN</td>\n",
       "    </tr>\n",
       "    <tr>\n",
       "      <td>3</td>\n",
       "      <td>b1952888-cc6f-4f4b-9843-fde04c1708a0</td>\n",
       "      <td>2a</td>\n",
       "      <td>NA</td>\n",
       "      <td>action-directive</td>\n",
       "      <td>NaN</td>\n",
       "    </tr>\n",
       "    <tr>\n",
       "      <td>4</td>\n",
       "      <td>8047c7fa-89d2-447b-bcb8-d1c2e6c98c5b</td>\n",
       "      <td>3a</td>\n",
       "      <td>NA</td>\n",
       "      <td>action-directive</td>\n",
       "      <td>NaN</td>\n",
       "    </tr>\n",
       "    <tr>\n",
       "      <td>...</td>\n",
       "      <td>...</td>\n",
       "      <td>...</td>\n",
       "      <td>...</td>\n",
       "      <td>...</td>\n",
       "      <td>...</td>\n",
       "    </tr>\n",
       "    <tr>\n",
       "      <td>5337</td>\n",
       "      <td>9fda7355-30c7-4363-9666-4f0347070a60</td>\n",
       "      <td>66c.67a</td>\n",
       "      <td>NA</td>\n",
       "      <td>acknowledge.assert</td>\n",
       "      <td>NaN</td>\n",
       "    </tr>\n",
       "    <tr>\n",
       "      <td>5338</td>\n",
       "      <td>0f240579-dcb2-49aa-8758-138e8a8a392d</td>\n",
       "      <td>67b.68a</td>\n",
       "      <td>3</td>\n",
       "      <td>info-provide.assert</td>\n",
       "      <td>NaN</td>\n",
       "    </tr>\n",
       "    <tr>\n",
       "      <td>5339</td>\n",
       "      <td>8521d8bc-fc19-4ff3-bc77-0e1133f993fe</td>\n",
       "      <td>68a+</td>\n",
       "      <td>NA</td>\n",
       "      <td>assert</td>\n",
       "      <td>NaN</td>\n",
       "    </tr>\n",
       "    <tr>\n",
       "      <td>5340</td>\n",
       "      <td>37dfcb89-3e16-41a3-ac94-b90e870b21fd</td>\n",
       "      <td>68a++</td>\n",
       "      <td>NA</td>\n",
       "      <td>assert</td>\n",
       "      <td>ReportLocation</td>\n",
       "    </tr>\n",
       "    <tr>\n",
       "      <td>5341</td>\n",
       "      <td>2bd25240-51de-40a1-a75c-228ba539e7c9</td>\n",
       "      <td>68b</td>\n",
       "      <td>1</td>\n",
       "      <td>acknowledge</td>\n",
       "      <td>NaN</td>\n",
       "    </tr>\n",
       "  </tbody>\n",
       "</table>\n",
       "<p>5342 rows × 5 columns</p>\n",
       "</div>"
      ],
      "text/plain": [
       "                                message_id    Label Score  \\\n",
       "0     34f36874-be3a-4187-bd66-1fa69d4e0c28       1a    NA   \n",
       "1     50de2843-270f-47d8-9e23-b41fb82ac3e5       1b     1   \n",
       "2     342f31d6-388d-4e33-a257-4d4314b20cdb       2b     1   \n",
       "3     b1952888-cc6f-4f4b-9843-fde04c1708a0       2a    NA   \n",
       "4     8047c7fa-89d2-447b-bcb8-d1c2e6c98c5b       3a    NA   \n",
       "...                                    ...      ...   ...   \n",
       "5337  9fda7355-30c7-4363-9666-4f0347070a60  66c.67a    NA   \n",
       "5338  0f240579-dcb2-49aa-8758-138e8a8a392d  67b.68a     3   \n",
       "5339  8521d8bc-fc19-4ff3-bc77-0e1133f993fe     68a+    NA   \n",
       "5340  37dfcb89-3e16-41a3-ac94-b90e870b21fd    68a++    NA   \n",
       "5341  2bd25240-51de-40a1-a75c-228ba539e7c9      68b     1   \n",
       "\n",
       "                 Category   ie_extraction  \n",
       "0                  assert             NaN  \n",
       "1             acknowledge             NaN  \n",
       "2                  accept             NaN  \n",
       "3        action-directive             NaN  \n",
       "4        action-directive             NaN  \n",
       "...                   ...             ...  \n",
       "5337   acknowledge.assert             NaN  \n",
       "5338  info-provide.assert             NaN  \n",
       "5339               assert             NaN  \n",
       "5340               assert  ReportLocation  \n",
       "5341          acknowledge             NaN  \n",
       "\n",
       "[5342 rows x 5 columns]"
      ]
     },
     "execution_count": 186,
     "metadata": {},
     "output_type": "execute_result"
    }
   ],
   "source": [
    "##### map ie extractions to annotation df #####\n",
    "ie_dict = dict(zip(ie_extraction.message_id, ie_extraction.ie_extraction))\n",
    "ann_df[\"ie_extraction\"] = ie_extraction[\"message_id\"].map(ie_dict)\n",
    "ann_df"
   ]
  },
  {
   "cell_type": "code",
   "execution_count": 187,
   "metadata": {},
   "outputs": [],
   "source": [
    "# check manually if all trials has ie labels attached on them\n",
    "# yes.\n",
    "ann_df.to_csv(\"ann_extend_ie.csv\", index=False)"
   ]
  },
  {
   "cell_type": "markdown",
   "metadata": {},
   "source": []
  },
  {
   "cell_type": "code",
   "execution_count": 188,
   "metadata": {},
   "outputs": [],
   "source": [
    "###### Find Call-out label set #####\n",
    "\n",
    "# filtering the rows where Label contains 'a'\n",
    "callout_df = ann_df[ann_df['Label'].str.contains('a')]\n",
    "\n",
    "# filtering the callout_df where Category is 'assert'\n",
    "callout_assert = callout_df[callout_df['Category'].str.contains('assert')]\n",
    "# filtering the callout_df where Category is 'commit'\n",
    "callout_commit = callout_df[callout_df['Category'].str.contains('commit')]\n",
    "# filtering the callout_df where Category is 'action-directive'\n",
    "callout_action = callout_df[callout_df['Category'].str.contains('action-directive')]\n",
    "# filtering the callout_df where Category is 'info-request'\n",
    "callout_info = callout_df[callout_df['Category'].str.contains('info-request')]"
   ]
  },
  {
   "cell_type": "code",
   "execution_count": 189,
   "metadata": {},
   "outputs": [],
   "source": [
    "###### Find Check-back label set #####\n",
    "\n",
    "# filtering the rows where Label contains 'b'\n",
    "checkback_df = ann_df[ann_df['Label'].str.contains('b')]\n",
    "\n",
    "# filtering the checkback_df where Category is 'acknowledge'\n",
    "checkback_acknowledge = checkback_df[checkback_df['Category'].str.contains('acknowledge')]\n",
    "# filtering the checkback_df where Category is 'accept'\n",
    "checkback_accept = checkback_df[checkback_df['Category'].str.contains('accept')]\n",
    "# filtering the checkback_df where Category is 'follow-up-question'\n",
    "checkback_question = checkback_df[checkback_df['Category'].str.contains('follow-up-question')]\n",
    "# filtering the checkback_df where Category is 'info-request'\n",
    "checkback_info = checkback_df[checkback_df['Category'].str.contains('info-provide')]"
   ]
  },
  {
   "cell_type": "code",
   "execution_count": 190,
   "metadata": {},
   "outputs": [],
   "source": [
    "###### Find Closing-of-the-loop label set #####\n",
    "\n",
    "# filtering the rows where Label contains 'c'\n",
    "closing_df = ann_df[ann_df['Label'].str.contains('c')]\n",
    "\n",
    "# filtering the checkback_df where Category is 'acknowledge'\n",
    "closing_acknowledge = closing_df[closing_df['Category'].str.contains('acknowledge')]\n",
    "# filtering the checkback_df where Category is 'accept'\n",
    "closing_accept = closing_df[closing_df['Category'].str.contains('accept')]\n",
    "# filtering the checkback_df where Category is 'info-request'\n",
    "closing_info = closing_df[closing_df['Category'].str.contains('info-provide')]"
   ]
  },
  {
   "cell_type": "code",
   "execution_count": 191,
   "metadata": {},
   "outputs": [],
   "source": [
    "##### get label frequency for each phase and category #####\n",
    "\n",
    "def find_label_freq(label_cat_df):\n",
    "    '''takes in df of each label/label_category, e.g.callout_df/callout_assert\n",
    "    and returns a list of the freq for each Odin label for that clc lable/label_category.\n",
    "    e.g. [(647, 'Agreement'), (197, 'KnowledgeSharing')]'''\n",
    "    label_cat_list = label_cat_df['ie_extraction'].dropna().to_list()\n",
    "    label_cat_freq = {}\n",
    "    for labels in label_cat_list:\n",
    "        labels = labels.split(', ')\n",
    "        for label in labels:\n",
    "            if label not in label_cat_freq:\n",
    "                label_cat_freq[label] = 1\n",
    "            else:\n",
    "                label_cat_freq[label] += 1\n",
    "    label_cat_freq_list = sorted([(value, key) for (key, value) in label_cat_freq.items()],\n",
    "                           reverse=True)\n",
    "    return label_cat_freq_list"
   ]
  },
  {
   "cell_type": "code",
   "execution_count": 192,
   "metadata": {},
   "outputs": [],
   "source": [
    "def all_part_bool(df_all, part_id_list):\n",
    "    '''for each id in df_all, if the id in part, give a 1, else 0\n",
    "    This function is used to prepare the tokenized golden and detection for acc'''\n",
    "    res = []\n",
    "    for id in df_all[\"message_id\"]:\n",
    "        if id in part_id_list:\n",
    "            res.append(1)\n",
    "        else:\n",
    "            res.append(0)\n",
    "    return res\n",
    "\n",
    "def find_labelset_scores(labelset, label_cat_df):\n",
    "    '''takes in a label set that selected from the Odin label freq list, and the \n",
    "    label/label category df. \n",
    "    Golden ann is a list of bool values for the all utts on whether an utt is marked with a certain label/label_cat.\n",
    "    Detected is a list of bool values for all utts on whether an utt contains the Odin label that in the selected Odin label list for that clc label/label_cat.\n",
    "    Returns acc, precision, recall, and f1 scores for that clc label cat'''\n",
    "    ann = all_part_bool(ann_df, label_cat_df[\"message_id\"].to_list())\n",
    "    utt_label_dict = dict(zip(ann_df.message_id, ann_df.ie_extraction))\n",
    "    detected_id = []\n",
    "    for id, labels in utt_label_dict.items():\n",
    "        found = False\n",
    "        if labels == labels: ## filter out nan\n",
    "            labels = labels.split(', ')\n",
    "            for label in labels:\n",
    "                if label in labelset:\n",
    "                    found = True\n",
    "        if found:\n",
    "            detected_id.append(id)\n",
    "    detected = all_part_bool(ann_df, detected_id)\n",
    "    acc, precision, recall, f1 = round(accuracy_score(ann, detected), 3),\\\n",
    "                        round(precision_score(ann, detected, zero_division=1), 3),\\\n",
    "                        round(recall_score(ann, detected, zero_division=1), 3),\\\n",
    "                        round(f1_score(ann, detected, zero_division=1), 3)\n",
    "    return acc, precision, recall, f1\n",
    "\n",
    "    "
   ]
  },
  {
   "cell_type": "code",
   "execution_count": 193,
   "metadata": {},
   "outputs": [],
   "source": [
    "def print_labelset_scores(labelset, label_cat_df):\n",
    "    acc, precision, recall, f1 = find_labelset_scores(labelset, label_cat_df)\n",
    "    print(\"acc: \", acc)\n",
    "    print(\"precision: \", precision)\n",
    "    print(\"recall: \", recall)\n",
    "    print(\"f1: \", f1)"
   ]
  },
  {
   "cell_type": "code",
   "execution_count": 194,
   "metadata": {},
   "outputs": [],
   "source": [
    "def plot_scores(labelset, label_cat_df):\n",
    "    '''Taking n of labels as the x_values, \n",
    "    the acc, precision, recall and f1 scores as y_values,\n",
    "    and line plot them'''\n",
    "    x_values = range(len(labelset))\n",
    "    y_acc, y_precision, y_recall, y_f1 = [], [], [], []\n",
    "    for i in x_values:\n",
    "        acc, precision, recall, f1 = find_labelset_scores(labelset[:i], label_cat_df)\n",
    "        y_acc.append(acc)\n",
    "        y_precision.append(precision)\n",
    "        y_recall.append(recall)\n",
    "        y_f1.append(f1)\n",
    "    scores_df = pd.DataFrame({'x_values':x_values,\n",
    "                              'accuracy':y_acc,\n",
    "                              'precision':y_precision,\n",
    "                              'recall':y_recall,\n",
    "                              'f1':y_f1})\n",
    "    plt.plot( 'x_values', 'accuracy', data=scores_df, marker='', color='#D95319', linewidth=2)\n",
    "    plt.plot( 'x_values', 'precision', data=scores_df, marker='', color='#0072BD', linewidth=2)\n",
    "    plt.plot( 'x_values', 'recall', data=scores_df, marker='', color='#7E2F8E', linewidth=2)\n",
    "    plt.plot( 'x_values', 'f1', data=scores_df, marker='', color='#77AC30', linewidth=2)\n",
    "    # show legend\n",
    "    plt.legend()\n",
    "    # show graph\n",
    "    plt.show()\n"
   ]
  },
  {
   "cell_type": "code",
   "execution_count": 206,
   "metadata": {},
   "outputs": [
    {
     "data": {
      "text/plain": [
       "[(647, 'Agreement'),\n",
       " (197, 'KnowledgeSharing'),\n",
       " (142, 'DeliberatePlan'),\n",
       " (126, 'Precedence'),\n",
       " (117, 'YesNoQuestion'),\n",
       " (90, 'MakeCommitment'),\n",
       " (81, 'Meeting'),\n",
       " (80, 'Instruction'),\n",
       " (73, 'MoveTo'),\n",
       " (46, 'Question'),\n",
       " (45, 'ReportLocation'),\n",
       " (39, 'OnMyWay'),\n",
       " (34, 'Gratitude'),\n",
       " (33, 'Search'),\n",
       " (31, 'ContingentPlan'),\n",
       " (28, 'NeedAction'),\n",
       " (28, 'LocationQuestion'),\n",
       " (26, 'Disagreement'),\n",
       " (26, 'Damage'),\n",
       " (21, 'Block'),\n",
       " (19, 'NeedPresence'),\n",
       " (18, 'MarkerBlock'),\n",
       " (17, 'TimeUnit'),\n",
       " (17, 'MoveEntity'),\n",
       " (17, 'HelpCommand'),\n",
       " (17, 'AmTrapped'),\n",
       " (15, 'Enter'),\n",
       " (14, 'MoveVictim'),\n",
       " (13, 'Sight'),\n",
       " (13, 'Clear'),\n",
       " (12, 'HelpRequest'),\n",
       " (10, 'Move'),\n",
       " (9, 'MoveFrom'),\n",
       " (8, 'Save'),\n",
       " (8, 'GPS'),\n",
       " (6, 'SOSMarker'),\n",
       " (6, 'RoomClear'),\n",
       " (4, 'Close'),\n",
       " (3, 'WhichVictimType'),\n",
       " (3, 'RoleDeclare'),\n",
       " (3, 'PlaceMarker'),\n",
       " (3, 'NeedRole'),\n",
       " (3, 'HelpOffer'),\n",
       " (2, 'Stabilize'),\n",
       " (2, 'ReportThreatRoom'),\n",
       " (2, 'PlanLanguage'),\n",
       " (2, 'HowQuestion'),\n",
       " (2, 'CriticalMarkerBlock'),\n",
       " (1, 'Open'),\n",
       " (1, 'Encouragement'),\n",
       " (1, 'ChangePriority')]"
      ]
     },
     "execution_count": 206,
     "metadata": {},
     "output_type": "execute_result"
    }
   ],
   "source": [
    "##### Call-out: assert #####\n",
    "assert_labels = find_label_freq(callout_assert)\n",
    "#assert_labels = [i[1] for i in assert_labels]\n",
    "assert_labels"
   ]
  },
  {
   "cell_type": "code",
   "execution_count": 196,
   "metadata": {},
   "outputs": [],
   "source": [
    "##### Call-out: commit #####\n",
    "commit_labels = find_label_freq(callout_commit)\n",
    "commit_labels = [i[1] for i in commit_labels]"
   ]
  },
  {
   "cell_type": "code",
   "execution_count": 197,
   "metadata": {},
   "outputs": [],
   "source": [
    "##### Call-out: action-directive #####\n",
    "action_labels = find_label_freq(callout_action)\n",
    "action_labels = [i[1] for i in action_labels]"
   ]
  },
  {
   "cell_type": "code",
   "execution_count": 198,
   "metadata": {},
   "outputs": [],
   "source": [
    "##### Call-out: info-request #####\n",
    "info_labels = find_label_freq(callout_info)\n",
    "info_labels = [i[1] for i in info_labels]"
   ]
  },
  {
   "cell_type": "code",
   "execution_count": 199,
   "metadata": {},
   "outputs": [],
   "source": [
    "ann = all_part_bool(ann_df, callout_assert[\"message_id\"].to_list())"
   ]
  },
  {
   "cell_type": "code",
   "execution_count": 101,
   "metadata": {},
   "outputs": [
    {
     "data": {
      "image/png": "[encoded data removed]",
      "text/plain": [
       "<Figure size 432x288 with 1 Axes>"
      ]
     },
     "metadata": {
      "needs_background": "light"
     },
     "output_type": "display_data"
    }
   ],
   "source": [
    "##### Call-out: assert accuracy #####\n",
    "plot_scores(assert_labels[1:25], callout_assert)"
   ]
  },
  {
   "cell_type": "code",
   "execution_count": 103,
   "metadata": {},
   "outputs": [
    {
     "name": "stdout",
     "output_type": "stream",
     "text": [
      "acc:  0.541\n",
      "precision:  0.354\n",
      "recall:  0.349\n",
      "f1:  0.352\n"
     ]
    }
   ],
   "source": [
    "print_labelset_scores(assert_labels[1:12], callout_assert)"
   ]
  },
  {
   "cell_type": "code",
   "execution_count": 207,
   "metadata": {},
   "outputs": [
    {
     "data": {
      "image/png": "[encoded data removed]",
      "text/plain": [
       "<Figure size 432x288 with 1 Axes>"
      ]
     },
     "metadata": {
      "needs_background": "light"
     },
     "output_type": "display_data"
    }
   ],
   "source": [
    "##### Call-out: commit accuracy #####\n",
    "plot_scores(commit_labels, callout_commit)"
   ]
  },
  {
   "cell_type": "code",
   "execution_count": 205,
   "metadata": {},
   "outputs": [
    {
     "data": {
      "text/plain": [
       "['Agreement',\n",
       " 'YesNoQuestion',\n",
       " 'DeliberatePlan',\n",
       " 'KnowledgeSharing',\n",
       " 'ReportLocation',\n",
       " 'Precedence',\n",
       " 'MakeCommitment',\n",
       " 'Instruction',\n",
       " 'MoveTo',\n",
       " 'Meeting',\n",
       " 'Gratitude',\n",
       " 'NeedPresence',\n",
       " 'OnMyWay',\n",
       " 'NeedAction',\n",
       " 'LocationQuestion',\n",
       " 'HelpRequest',\n",
       " 'ContingentPlan',\n",
       " 'AmTrapped',\n",
       " 'MarkerBlock',\n",
       " 'Disagreement',\n",
       " 'Sight',\n",
       " 'Search',\n",
       " 'SOSMarker',\n",
       " 'Question',\n",
       " 'Block',\n",
       " 'Save',\n",
       " 'RoomClear',\n",
       " 'RoleDeclare',\n",
       " 'PlaceMarker',\n",
       " 'Open',\n",
       " 'MoveVictim',\n",
       " 'MoveFrom',\n",
       " 'MoveEntity',\n",
       " 'HelpOffer',\n",
       " 'HelpCommand',\n",
       " 'Enter',\n",
       " 'Damage',\n",
       " 'ChangePriority']"
      ]
     },
     "execution_count": 205,
     "metadata": {},
     "output_type": "execute_result"
    }
   ],
   "source": [
    "commit_labels"
   ]
  },
  {
   "cell_type": "code",
   "execution_count": 115,
   "metadata": {},
   "outputs": [
    {
     "name": "stdout",
     "output_type": "stream",
     "text": [
      "acc:  0.657\n",
      "precision:  0.052\n",
      "recall:  0.343\n",
      "f1:  0.09\n"
     ]
    }
   ],
   "source": [
    "print_labelset_scores(commit_labels[1:10], callout_commit)"
   ]
  },
  {
   "cell_type": "code",
   "execution_count": 118,
   "metadata": {},
   "outputs": [
    {
     "data": {
      "image/png": "[encoded data removed]",
      "text/plain": [
       "<Figure size 432x288 with 1 Axes>"
      ]
     },
     "metadata": {
      "needs_background": "light"
     },
     "output_type": "display_data"
    }
   ],
   "source": [
    "##### Call-out: action-directive accuracy #####\n",
    "plot_scores(action_labels[1:30], callout_action)"
   ]
  },
  {
   "cell_type": "code",
   "execution_count": 119,
   "metadata": {},
   "outputs": [
    {
     "name": "stdout",
     "output_type": "stream",
     "text": [
      "acc:  0.575\n",
      "precision:  0.148\n",
      "recall:  0.396\n",
      "f1:  0.216\n"
     ]
    }
   ],
   "source": [
    "print_labelset_scores(action_labels[1:20], callout_action)"
   ]
  },
  {
   "cell_type": "code",
   "execution_count": 122,
   "metadata": {},
   "outputs": [
    {
     "data": {
      "image/png": "[encoded data removed]",
      "text/plain": [
       "<Figure size 432x288 with 1 Axes>"
      ]
     },
     "metadata": {
      "needs_background": "light"
     },
     "output_type": "display_data"
    }
   ],
   "source": [
    "##### Call-out: info-request accuracy #####\n",
    "plot_scores(info_labels[1:], callout_info)"
   ]
  },
  {
   "cell_type": "code",
   "execution_count": 123,
   "metadata": {},
   "outputs": [
    {
     "name": "stdout",
     "output_type": "stream",
     "text": [
      "acc:  0.65\n",
      "precision:  0.078\n",
      "recall:  0.291\n",
      "f1:  0.124\n"
     ]
    }
   ],
   "source": [
    "print_labelset_scores(info_labels[1:10], callout_info)"
   ]
  },
  {
   "cell_type": "code",
   "execution_count": null,
   "metadata": {},
   "outputs": [],
   "source": [
    "##### Call-out: whole labelset accuracy #####\n",
    "callout_labels = find_label_freq(callout_df)\n",
    "callout_labels = [i[1] for i in callout_labels]"
   ]
  },
  {
   "cell_type": "code",
   "execution_count": 137,
   "metadata": {},
   "outputs": [
    {
     "data": {
      "image/png": "[encoded data removed]",
      "text/plain": [
       "<Figure size 432x288 with 1 Axes>"
      ]
     },
     "metadata": {
      "needs_background": "light"
     },
     "output_type": "display_data"
    }
   ],
   "source": [
    "plot_scores(callout_labels[1:30], callout_df)"
   ]
  },
  {
   "cell_type": "code",
   "execution_count": 202,
   "metadata": {},
   "outputs": [
    {
     "name": "stdout",
     "output_type": "stream",
     "text": [
      "acc:  0.472\n",
      "precision:  0.588\n",
      "recall:  0.419\n",
      "f1:  0.489\n"
     ]
    }
   ],
   "source": [
    "print_labelset_scores(callout_labels[1:30], callout_df)"
   ]
  },
  {
   "cell_type": "code",
   "execution_count": 141,
   "metadata": {},
   "outputs": [],
   "source": [
    "##### Check-back: acknowledge #####\n",
    "cb_acknowledge = find_label_freq(checkback_acknowledge)\n",
    "cb_acknowledge = [i[1] for i in cb_acknowledge]"
   ]
  },
  {
   "cell_type": "code",
   "execution_count": 142,
   "metadata": {},
   "outputs": [],
   "source": [
    "##### Check-back: accept #####\n",
    "cb_accept = find_label_freq(checkback_accept)\n",
    "cb_accept = [i[1] for i in cb_accept]"
   ]
  },
  {
   "cell_type": "code",
   "execution_count": 143,
   "metadata": {},
   "outputs": [],
   "source": [
    "##### Check-back: follow-up-question #####\n",
    "cb_question = find_label_freq(checkback_question)\n",
    "cb_question = [i[1] for i in cb_question]"
   ]
  },
  {
   "cell_type": "code",
   "execution_count": 156,
   "metadata": {},
   "outputs": [],
   "source": [
    "##### Check-back: info-provide #####\n",
    "cb_info = find_label_freq(checkback_info)\n",
    "cb_info = [i[1] for i in cb_info]"
   ]
  },
  {
   "cell_type": "code",
   "execution_count": 144,
   "metadata": {},
   "outputs": [
    {
     "data": {
      "image/png": "[encoded data removed]",
      "text/plain": [
       "<Figure size 432x288 with 1 Axes>"
      ]
     },
     "metadata": {
      "needs_background": "light"
     },
     "output_type": "display_data"
    }
   ],
   "source": [
    "##### Check-back: acknowledge accuracy #####\n",
    "plot_scores(cb_acknowledge, checkback_acknowledge)"
   ]
  },
  {
   "cell_type": "code",
   "execution_count": 149,
   "metadata": {},
   "outputs": [
    {
     "name": "stdout",
     "output_type": "stream",
     "text": [
      "acc:  0.507\n",
      "precision:  0.133\n",
      "recall:  0.519\n",
      "f1:  0.211\n"
     ]
    }
   ],
   "source": [
    "print_labelset_scores(cb_acknowledge[:7], checkback_acknowledge)"
   ]
  },
  {
   "cell_type": "code",
   "execution_count": 146,
   "metadata": {},
   "outputs": [
    {
     "data": {
      "image/png": "[encoded data removed]",
      "text/plain": [
       "<Figure size 432x288 with 1 Axes>"
      ]
     },
     "metadata": {
      "needs_background": "light"
     },
     "output_type": "display_data"
    }
   ],
   "source": [
    "##### Check-back: accept accuracy #####\n",
    "plot_scores(cb_accept, checkback_accept)"
   ]
  },
  {
   "cell_type": "code",
   "execution_count": 148,
   "metadata": {},
   "outputs": [
    {
     "name": "stdout",
     "output_type": "stream",
     "text": [
      "acc:  0.501\n",
      "precision:  0.118\n",
      "recall:  0.493\n",
      "f1:  0.191\n"
     ]
    }
   ],
   "source": [
    "print_labelset_scores(cb_accept[:7], checkback_accept)"
   ]
  },
  {
   "cell_type": "code",
   "execution_count": 150,
   "metadata": {},
   "outputs": [
    {
     "data": {
      "image/png": "[encoded data removed]",
      "text/plain": [
       "<Figure size 432x288 with 1 Axes>"
      ]
     },
     "metadata": {
      "needs_background": "light"
     },
     "output_type": "display_data"
    }
   ],
   "source": [
    "##### Check-back: follow-up-question accuracy #####\n",
    "plot_scores(cb_question, checkback_question)"
   ]
  },
  {
   "cell_type": "code",
   "execution_count": 151,
   "metadata": {},
   "outputs": [
    {
     "name": "stdout",
     "output_type": "stream",
     "text": [
      "acc:  0.508\n",
      "precision:  0.019\n",
      "recall:  0.468\n",
      "f1:  0.037\n"
     ]
    }
   ],
   "source": [
    "print_labelset_scores(cb_question[:8], checkback_question)"
   ]
  },
  {
   "cell_type": "code",
   "execution_count": 157,
   "metadata": {},
   "outputs": [
    {
     "data": {
      "image/png": "[encoded data removed]",
      "text/plain": [
       "<Figure size 432x288 with 1 Axes>"
      ]
     },
     "metadata": {
      "needs_background": "light"
     },
     "output_type": "display_data"
    }
   ],
   "source": [
    "##### Check-back: info-provide accuracy #####\n",
    "plot_scores(cb_info, checkback_info)"
   ]
  },
  {
   "cell_type": "code",
   "execution_count": 158,
   "metadata": {},
   "outputs": [
    {
     "name": "stdout",
     "output_type": "stream",
     "text": [
      "acc:  0.518\n",
      "precision:  0.108\n",
      "recall:  0.47\n",
      "f1:  0.175\n"
     ]
    }
   ],
   "source": [
    "print_labelset_scores(cb_info[:7], checkback_info)"
   ]
  },
  {
   "cell_type": "code",
   "execution_count": 159,
   "metadata": {},
   "outputs": [],
   "source": [
    "##### Check-back: whole labelset accuracy #####\n",
    "checkback_labels = find_label_freq(checkback_df)\n",
    "checkback_labels = [i[1] for i in checkback_labels]"
   ]
  },
  {
   "cell_type": "code",
   "execution_count": 160,
   "metadata": {},
   "outputs": [
    {
     "data": {
      "image/png": "[encoded data removed]",
      "text/plain": [
       "<Figure size 432x288 with 1 Axes>"
      ]
     },
     "metadata": {
      "needs_background": "light"
     },
     "output_type": "display_data"
    }
   ],
   "source": [
    "plot_scores(checkback_labels, checkback_df)"
   ]
  },
  {
   "cell_type": "code",
   "execution_count": 203,
   "metadata": {},
   "outputs": [
    {
     "name": "stdout",
     "output_type": "stream",
     "text": [
      "acc:  0.498\n",
      "precision:  0.371\n",
      "recall:  0.495\n",
      "f1:  0.424\n"
     ]
    }
   ],
   "source": [
    "print_labelset_scores(checkback_labels[:7], checkback_df)"
   ]
  },
  {
   "cell_type": "code",
   "execution_count": 163,
   "metadata": {},
   "outputs": [],
   "source": [
    "##### Closing-of-the-loop: acknowledge #####\n",
    "cl_acknowledge = find_label_freq(closing_acknowledge)\n",
    "cl_acknowledge = [i[1] for i in cl_acknowledge]"
   ]
  },
  {
   "cell_type": "code",
   "execution_count": 164,
   "metadata": {},
   "outputs": [],
   "source": [
    "##### Closing-of-the-loop: accept #####\n",
    "cl_accept = find_label_freq(closing_accept)\n",
    "cl_accept = [i[1] for i in cl_accept]"
   ]
  },
  {
   "cell_type": "code",
   "execution_count": 165,
   "metadata": {},
   "outputs": [],
   "source": [
    "##### Closing-of-the-loop: info-provide #####\n",
    "cl_info = find_label_freq(closing_info)\n",
    "cl_info = [i[1] for i in cl_info]"
   ]
  },
  {
   "cell_type": "code",
   "execution_count": 166,
   "metadata": {},
   "outputs": [
    {
     "data": {
      "image/png": "[encoded data removed]",
      "text/plain": [
       "<Figure size 432x288 with 1 Axes>"
      ]
     },
     "metadata": {
      "needs_background": "light"
     },
     "output_type": "display_data"
    }
   ],
   "source": [
    "##### Closing-of-the-loop: acknowledge accuracy #####\n",
    "plot_scores(cl_acknowledge, closing_acknowledge)"
   ]
  },
  {
   "cell_type": "code",
   "execution_count": 167,
   "metadata": {},
   "outputs": [
    {
     "name": "stdout",
     "output_type": "stream",
     "text": [
      "acc:  0.514\n",
      "precision:  0.054\n",
      "recall:  0.473\n",
      "f1:  0.097\n"
     ]
    }
   ],
   "source": [
    "print_labelset_scores(cl_acknowledge[:6], closing_acknowledge)"
   ]
  },
  {
   "cell_type": "code",
   "execution_count": 168,
   "metadata": {},
   "outputs": [
    {
     "data": {
      "image/png": "[encoded data removed]",
      "text/plain": [
       "<Figure size 432x288 with 1 Axes>"
      ]
     },
     "metadata": {
      "needs_background": "light"
     },
     "output_type": "display_data"
    }
   ],
   "source": [
    "##### Closing-of-the-loop: accept accuracy #####\n",
    "plot_scores(cl_accept, closing_accept)"
   ]
  },
  {
   "cell_type": "code",
   "execution_count": 170,
   "metadata": {},
   "outputs": [
    {
     "name": "stdout",
     "output_type": "stream",
     "text": [
      "acc:  0.507\n",
      "precision:  0.004\n",
      "recall:  0.524\n",
      "f1:  0.008\n"
     ]
    }
   ],
   "source": [
    "print_labelset_scores(cl_accept[:7], closing_accept)"
   ]
  },
  {
   "cell_type": "code",
   "execution_count": 171,
   "metadata": {},
   "outputs": [
    {
     "data": {
      "image/png": "[encoded data removed]",
      "text/plain": [
       "<Figure size 432x288 with 1 Axes>"
      ]
     },
     "metadata": {
      "needs_background": "light"
     },
     "output_type": "display_data"
    }
   ],
   "source": [
    "##### Closing-of-the-loop: info-provide accuracy #####\n",
    "plot_scores(cl_info, closing_info)"
   ]
  },
  {
   "cell_type": "code",
   "execution_count": 172,
   "metadata": {},
   "outputs": [
    {
     "name": "stdout",
     "output_type": "stream",
     "text": [
      "acc:  0.546\n",
      "precision:  0.021\n",
      "recall:  0.455\n",
      "f1:  0.04\n"
     ]
    }
   ],
   "source": [
    "print_labelset_scores(cl_info[:6], closing_info)"
   ]
  },
  {
   "cell_type": "code",
   "execution_count": 173,
   "metadata": {},
   "outputs": [],
   "source": [
    "##### Closing-of-the-loop: whole labelset accuracy #####\n",
    "closing_labels = find_label_freq(closing_df)\n",
    "closing_labels = [i[1] for i in closing_labels]"
   ]
  },
  {
   "cell_type": "code",
   "execution_count": 175,
   "metadata": {},
   "outputs": [
    {
     "data": {
      "image/png": "[encoded data removed]",
      "text/plain": [
       "<Figure size 432x288 with 1 Axes>"
      ]
     },
     "metadata": {
      "needs_background": "light"
     },
     "output_type": "display_data"
    }
   ],
   "source": [
    "plot_scores(closing_labels, closing_df)"
   ]
  },
  {
   "cell_type": "code",
   "execution_count": 176,
   "metadata": {},
   "outputs": [
    {
     "name": "stdout",
     "output_type": "stream",
     "text": [
      "acc:  0.522\n",
      "precision:  0.078\n",
      "recall:  0.452\n",
      "f1:  0.133\n"
     ]
    }
   ],
   "source": [
    "print_labelset_scores(closing_labels[:6], closing_df)"
   ]
  },
  {
   "cell_type": "code",
   "execution_count": 204,
   "metadata": {},
   "outputs": [],
   "source": [
    "import json\n",
    "\n",
    "callout_selection = callout_labels[1:30]\n",
    "checkback_selection = checkback_labels[:7]\n",
    "closing_selection = closing_labels[:6]\n",
    "\n",
    "label_selection = {\"callout_selection\": callout_selection,\n",
    "                   \"checkback_selection\": checkback_selection,\n",
    "                   \"closing_selection\": closing_selection}\n",
    "with open('label_selection.json', 'w') as file:\n",
    "    json.dump(label_selection, file)"
   ]
  },
  {
   "cell_type": "code",
   "execution_count": null,
   "metadata": {},
   "outputs": [],
   "source": []
  }
 ],
 "metadata": {
  "kernelspec": {
   "display_name": "base",
   "language": "python",
   "name": "python3"
  },
  "language_info": {
   "codemirror_mode": {
    "name": "ipython",
    "version": 3
   },
   "file_extension": ".py",
   "mimetype": "text/x-python",
   "name": "python",
   "nbconvert_exporter": "python",
   "pygments_lexer": "ipython3",
   "version": "3.7.4"
  },
  "orig_nbformat": 4,
  "vscode": {
   "interpreter": {
    "hash": "40d3a090f54c6569ab1632332b64b2c03c39dcf918b08424e98f38b5ae0af88f"
   }
  }
 },
 "nbformat": 4,
 "nbformat_minor": 2
}
